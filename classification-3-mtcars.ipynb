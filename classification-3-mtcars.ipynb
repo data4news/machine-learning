{
 "cells": [
  {
   "attachments": {},
   "cell_type": "markdown",
   "metadata": {},
   "source": [
    "## What is Classification? (with mtcars)\n"
   ]
  },
  {
   "attachments": {},
   "cell_type": "markdown",
   "metadata": {},
   "source": [
    "## Setup and Imports"
   ]
  },
  {
   "cell_type": "code",
   "execution_count": 1,
   "metadata": {},
   "outputs": [],
   "source": [
    "%load_ext rpy2.ipython\n",
    "%load_ext autoreload\n",
    "%autoreload 2\n",
    "\n",
    "%matplotlib inline  \n",
    "from matplotlib import rcParams\n",
    "rcParams['figure.figsize'] = (16, 100)\n",
    "\n",
    "import warnings\n",
    "from rpy2.rinterface import RRuntimeWarning\n",
    "warnings.filterwarnings(\"ignore\") # Ignore all warnings\n",
    "# warnings.filterwarnings(\"ignore\", category=RRuntimeWarning) # Show some warnings\n",
    "\n",
    "import pandas as pd\n",
    "import numpy as np\n",
    "import matplotlib.pyplot as plt\n",
    "from IPython.display import display, HTML"
   ]
  },
  {
   "cell_type": "code",
   "execution_count": 2,
   "metadata": {},
   "outputs": [
    {
     "data": {
      "application/javascript": "// Disable auto-scrolling\nIPython.OutputArea.prototype._should_scroll = function(lines) {\n    return false;\n}\n",
      "text/plain": [
       "<IPython.core.display.Javascript object>"
      ]
     },
     "metadata": {},
     "output_type": "display_data"
    }
   ],
   "source": [
    "%%javascript\n",
    "// Disable auto-scrolling\n",
    "IPython.OutputArea.prototype._should_scroll = function(lines) {\n",
    "    return false;\n",
    "}"
   ]
  },
  {
   "cell_type": "code",
   "execution_count": 3,
   "metadata": {},
   "outputs": [
    {
     "name": "stdout",
     "output_type": "stream",
     "text": [
      "── Attaching core tidyverse packages ──────────────────────── tidyverse 2.0.0 ──\n",
      "✔ dplyr     1.1.4     ✔ readr     2.1.5\n",
      "✔ forcats   1.0.0     ✔ stringr   1.5.1\n",
      "✔ ggplot2   3.4.4     ✔ tibble    3.2.1\n",
      "✔ lubridate 1.9.3     ✔ tidyr     1.3.0\n",
      "✔ purrr     1.0.2     \n",
      "── Conflicts ────────────────────────────────────────── tidyverse_conflicts() ──\n",
      "✖ dplyr::filter() masks stats::filter()\n",
      "✖ dplyr::lag()    masks stats::lag()\n",
      "ℹ Use the conflicted package (<http://conflicted.r-lib.org/>) to force all conflicts to become errors\n"
     ]
    },
    {
     "data": {
      "text/plain": [
       "Loading required package: tidyverse\n",
       "Loading required package: DescTools\n",
       "Loading required package: ggrepel\n"
      ]
     },
     "metadata": {},
     "output_type": "display_data"
    }
   ],
   "source": [
    "%%R\n",
    "\n",
    "# My commonly used R imports\n",
    "\n",
    "require('tidyverse')\n",
    "require('DescTools')\n",
    "require('ggrepel')"
   ]
  },
  {
   "attachments": {},
   "cell_type": "markdown",
   "metadata": {},
   "source": [
    "## Load the data\n",
    "\n",
    "read mtcars"
   ]
  },
  {
   "cell_type": "code",
   "execution_count": 4,
   "metadata": {},
   "outputs": [
    {
     "name": "stdout",
     "output_type": "stream",
     "text": [
      "    mpg cyl  disp  hp drat    wt  qsec vs am gear carb                name\n",
      "1  21.0   6 160.0 110 3.90 2.620 16.46  0  1    4    4           Mazda RX4\n",
      "2  21.0   6 160.0 110 3.90 2.875 17.02  0  1    4    4       Mazda RX4 Wag\n",
      "3  22.8   4 108.0  93 3.85 2.320 18.61  1  1    4    1          Datsun 710\n",
      "4  21.4   6 258.0 110 3.08 3.215 19.44  1  0    3    1      Hornet 4 Drive\n",
      "5  18.7   8 360.0 175 3.15 3.440 17.02  0  0    3    2   Hornet Sportabout\n",
      "6  18.1   6 225.0 105 2.76 3.460 20.22  1  0    3    1             Valiant\n",
      "7  14.3   8 360.0 245 3.21 3.570 15.84  0  0    3    4          Duster 360\n",
      "8  24.4   4 146.7  62 3.69 3.190 20.00  1  0    4    2           Merc 240D\n",
      "9  22.8   4 140.8  95 3.92 3.150 22.90  1  0    4    2            Merc 230\n",
      "10 19.2   6 167.6 123 3.92 3.440 18.30  1  0    4    4            Merc 280\n",
      "11 17.8   6 167.6 123 3.92 3.440 18.90  1  0    4    4           Merc 280C\n",
      "12 16.4   8 275.8 180 3.07 4.070 17.40  0  0    3    3          Merc 450SE\n",
      "13 17.3   8 275.8 180 3.07 3.730 17.60  0  0    3    3          Merc 450SL\n",
      "14 15.2   8 275.8 180 3.07 3.780 18.00  0  0    3    3         Merc 450SLC\n",
      "15 10.4   8 472.0 205 2.93 5.250 17.98  0  0    3    4  Cadillac Fleetwood\n",
      "16 10.4   8 460.0 215 3.00 5.424 17.82  0  0    3    4 Lincoln Continental\n",
      "17 14.7   8 440.0 230 3.23 5.345 17.42  0  0    3    4   Chrysler Imperial\n",
      "18 32.4   4  78.7  66 4.08 2.200 19.47  1  1    4    1            Fiat 128\n",
      "19 30.4   4  75.7  52 4.93 1.615 18.52  1  1    4    2         Honda Civic\n",
      "20 33.9   4  71.1  65 4.22 1.835 19.90  1  1    4    1      Toyota Corolla\n",
      "21 21.5   4 120.1  97 3.70 2.465 20.01  1  0    3    1       Toyota Corona\n",
      "22 15.5   8 318.0 150 2.76 3.520 16.87  0  0    3    2    Dodge Challenger\n",
      "23 15.2   8 304.0 150 3.15 3.435 17.30  0  0    3    2         AMC Javelin\n",
      "24 13.3   8 350.0 245 3.73 3.840 15.41  0  0    3    4          Camaro Z28\n",
      "25 19.2   8 400.0 175 3.08 3.845 17.05  0  0    3    2    Pontiac Firebird\n",
      "26 27.3   4  79.0  66 4.08 1.935 18.90  1  1    4    1           Fiat X1-9\n",
      "27 26.0   4 120.3  91 4.43 2.140 16.70  0  1    5    2       Porsche 914-2\n",
      "28 30.4   4  95.1 113 3.77 1.513 16.90  1  1    5    2        Lotus Europa\n",
      "29 15.8   8 351.0 264 4.22 3.170 14.50  0  1    5    4      Ford Pantera L\n",
      "30 19.7   6 145.0 175 3.62 2.770 15.50  0  1    5    6        Ferrari Dino\n",
      "31 15.0   8 301.0 335 3.54 3.570 14.60  0  1    5    8       Maserati Bora\n",
      "32 21.4   4 121.0 109 4.11 2.780 18.60  1  1    4    2          Volvo 142E\n"
     ]
    }
   ],
   "source": [
    "%%R -o mtcars\n",
    "\n",
    "# create a column called name and set it to the rownames of mtcars\n",
    "mtcars$name <- rownames(mtcars)\n",
    "\n",
    "# delete the rownames\n",
    "rownames(mtcars) <- NULL\n",
    "\n",
    "mtcars\n"
   ]
  },
  {
   "attachments": {},
   "cell_type": "markdown",
   "metadata": {},
   "source": [
    "## Logistic Regression \n",
    "\n",
    "What is the probability that a car is automatic or manual given it's weight and horsepower? \n",
    "\n",
    "In other words: `am ~ wt + hp`"
   ]
  },
  {
   "cell_type": "code",
   "execution_count": 16,
   "metadata": {},
   "outputs": [
    {
     "name": "stdout",
     "output_type": "stream",
     "text": [
      "\n",
      "Call:\n",
      "glm(formula = am ~ wt + hp, family = binomial(link = \"logit\"), \n",
      "    data = mtcars)\n",
      "\n",
      "Coefficients:\n",
      "            Estimate Std. Error z value Pr(>|z|)   \n",
      "(Intercept) 18.86630    7.44356   2.535  0.01126 * \n",
      "wt          -8.08348    3.06868"
     ]
    },
    {
     "name": "stdout",
     "output_type": "stream",
     "text": [
      "  -2.634  0.00843 **\n",
      "hp           0.03626    0.01773   2.044  0.04091 * \n",
      "---\n",
      "Signif. codes:  0 ‘***’ 0.001 ‘**’ 0.01 ‘*’ 0.05 ‘.’ 0.1 ‘ ’ 1\n",
      "\n",
      "(Dispersion parameter for binomial family taken to be 1)\n",
      "\n",
      "    Null deviance: 43.230  on 31  degrees of freedom\n",
      "Residual deviance: 10.059  on 29  degrees of freedom\n",
      "AIC: 16.059\n",
      "\n",
      "Number of Fisher Scoring iterations: 8\n",
      "\n"
     ]
    }
   ],
   "source": [
    "%%R \n",
    "\n",
    "# Run logistic regression\n",
    "logistic <- glm(am ~ wt + hp, data = mtcars, family = binomial(link = 'logit'))\n",
    "\n",
    "# see the output\n",
    "print(summary(logistic))"
   ]
  },
  {
   "cell_type": "code",
   "execution_count": 15,
   "metadata": {},
   "outputs": [
    {
     "name": "stdout",
     "output_type": "stream",
     "text": [
      " (Intercept)           wt           hp \n",
      "1.561455e+08 3.085967e-04 1.036921e+00 \n"
     ]
    }
   ],
   "source": [
    "%%R \n",
    "# see the coefficients\n",
    "# in machine learning land we don't care too much about these...\n",
    "print(exp(coef(logistic)))\n"
   ]
  },
  {
   "cell_type": "code",
   "execution_count": 18,
   "metadata": {},
   "outputs": [
    {
     "name": "stdout",
     "output_type": "stream",
     "text": [
      " McFadden \n",
      "0.7673104 \n"
     ]
    }
   ],
   "source": [
    "%%R \n",
    "\n",
    "# look at pseudo R2\n",
    "# but we do care about this\n",
    "print(PseudoR2(logistic, which = 'McFadden'))\n"
   ]
  },
  {
   "attachments": {},
   "cell_type": "markdown",
   "metadata": {},
   "source": [
    "Oh look, a pseudo r^2 of .76. That's pretty good.\n",
    "\n",
    "But now, what if our goal was prediction, not inference. Suppose I don't care much about how these things are related to one another. I just want to build a machine that categorizes cars as automatic or manual.\n",
    "\n",
    "Visually, this is what we're doing"
   ]
  },
  {
   "cell_type": "code",
   "execution_count": 6,
   "metadata": {},
   "outputs": [
    {
     "data": {
      "image/png": "[encoded data removed]",
      "text/plain": [
       "<IPython.core.display.Image object>"
      ]
     },
     "metadata": {},
     "output_type": "display_data"
    }
   ],
   "source": [
    "%%R -w 750 \n",
    "mtcars$am <- factor(mtcars$am, labels = c('Automatic', 'Manual'))\n",
    "\n",
    "ggplot(mtcars) +\n",
    "    aes(x=wt, y=hp, color=am, shape=am, label=name) +\n",
    "    geom_point(size=4) + \n",
    "    geom_text_repel() +\n",
    "    theme_bw() + \n",
    "    labs(\n",
    "        title=\"Automatic vs Manual cars in mtcars\",\n",
    "        y = \"Horsepower (hp)\", x= \"Weight (wt)\")"
   ]
  },
  {
   "attachments": {},
   "cell_type": "markdown",
   "metadata": {},
   "source": [
    "What is a classification task? The idea is to train an algorithm that will a boundary between the two categories and categorize any new data that comes in accurately. "
   ]
  },
  {
   "attachments": {},
   "cell_type": "markdown",
   "metadata": {},
   "source": [
    "![](flashcards/Classification_web.png)"
   ]
  },
  {
   "attachments": {},
   "cell_type": "markdown",
   "metadata": {},
   "source": [
    "## The logistic regression is a classifier!!!\n",
    "\n",
    "or...well...it can become one"
   ]
  },
  {
   "cell_type": "code",
   "execution_count": 7,
   "metadata": {},
   "outputs": [
    {
     "name": "stdout",
     "output_type": "stream",
     "text": [
      "   mpg cyl disp  hp drat    wt  qsec vs        am gear carb              name\n",
      "1 21.0   6  160 110 3.90 2.620 16.46  0    Manual    4    4         Mazda RX4\n",
      "2 21.0   6  160 110 3.90 2.875 17.02  0    Manual    4    4     Mazda RX4 Wag\n",
      "3 22.8   4  108  93 3.85 2.320 18.61  1    Manual    4    1        Datsun 710\n",
      "4 21.4   6  258 110 3.08 3.215 19.44  1 Automatic    3    1    Hornet 4 Drive\n",
      "5 18.7   8  360 175 3.15 3.440 17.02  0 Automatic    3    2 Hornet Sportabout\n",
      "6 18.1   6  225 105 2.76 3.460 20.22  1 Automatic    3    1           Valiant\n",
      "  prediction_odds prediction_pct prediction\n",
      "1     5.342583344    0.842335537     Manual\n",
      "2     0.680058222    0.404782533  Automatic\n",
      "3    32.603078929    0.970240822     Manual\n",
      "4     0.043545086    0.041728035  Automatic\n",
      "5     0.074561828    0.069388122  Automatic\n",
      "6     0.005013165    0.004988159  Automatic\n"
     ]
    }
   ],
   "source": [
    "%%R \n",
    "\n",
    "df <- mtcars %>% mutate(\n",
    "    prediction_odds = exp(predict(logistic)),\n",
    "    prediction_pct = prediction_odds / (1 + prediction_odds),\n",
    "    prediction = ifelse(prediction_pct > 0.5, 'Manual', 'Automatic')\n",
    ")\n",
    "\n",
    "df %>% head()"
   ]
  },
  {
   "cell_type": "code",
   "execution_count": 8,
   "metadata": {},
   "outputs": [
    {
     "name": "stdout",
     "output_type": "stream",
     "text": [
      "     wt  hp prediction        am\n",
      "1 2.620 110     Manual    Manual\n",
      "2 2.875 110  Automatic    Manual\n",
      "3 2.320  93     Manual    Manual\n",
      "4 3.215 110  Automatic Automatic\n",
      "5 3.440 175  Automatic Automatic\n",
      "6 3.460 105  Automatic Automatic\n"
     ]
    }
   ],
   "source": [
    "%%R -o df\n",
    "\n",
    "df %>% select(wt, hp, prediction, am) %>% head()"
   ]
  },
  {
   "attachments": {},
   "cell_type": "markdown",
   "metadata": {},
   "source": [
    "## How well did our classifier do?"
   ]
  },
  {
   "cell_type": "code",
   "execution_count": 19,
   "metadata": {},
   "outputs": [
    {
     "data": {
      "text/html": [
       "<div>\n",
       "<style scoped>\n",
       "    .dataframe tbody tr th:only-of-type {\n",
       "        vertical-align: middle;\n",
       "    }\n",
       "\n",
       "    .dataframe tbody tr th {\n",
       "        vertical-align: top;\n",
       "    }\n",
       "\n",
       "    .dataframe thead th {\n",
       "        text-align: right;\n",
       "    }\n",
       "</style>\n",
       "<table border=\"1\" class=\"dataframe\">\n",
       "  <thead>\n",
       "    <tr style=\"text-align: right;\">\n",
       "      <th>am</th>\n",
       "      <th>Automatic</th>\n",
       "      <th>Manual</th>\n",
       "    </tr>\n",
       "    <tr>\n",
       "      <th>prediction</th>\n",
       "      <th></th>\n",
       "      <th></th>\n",
       "    </tr>\n",
       "  </thead>\n",
       "  <tbody>\n",
       "    <tr>\n",
       "      <th>Automatic</th>\n",
       "      <td>18</td>\n",
       "      <td>1</td>\n",
       "    </tr>\n",
       "    <tr>\n",
       "      <th>Manual</th>\n",
       "      <td>1</td>\n",
       "      <td>12</td>\n",
       "    </tr>\n",
       "  </tbody>\n",
       "</table>\n",
       "</div>"
      ],
      "text/plain": [
       "am          Automatic  Manual\n",
       "prediction                   \n",
       "Automatic          18       1\n",
       "Manual              1      12"
      ]
     },
     "execution_count": 19,
     "metadata": {},
     "output_type": "execute_result"
    }
   ],
   "source": [
    "pd.crosstab(df.prediction, df.am)"
   ]
  },
  {
   "cell_type": "markdown",
   "metadata": {},
   "source": [
    "A simple accuracy score"
   ]
  },
  {
   "cell_type": "code",
   "execution_count": 21,
   "metadata": {},
   "outputs": [
    {
     "data": {
      "text/plain": [
       "93.75"
      ]
     },
     "execution_count": 21,
     "metadata": {},
     "output_type": "execute_result"
    }
   ],
   "source": [
    "correct = 18 + 12 \n",
    "incorrect = 1 + 1\n",
    "\n",
    "accuracy = correct / (correct + incorrect)\n",
    "accuracy * 100"
   ]
  },
  {
   "cell_type": "markdown",
   "metadata": {},
   "source": [
    "![](flashcards/Accuracy_web.png)"
   ]
  }
 ],
 "metadata": {
  "kernelspec": {
   "display_name": "Python 3 (ipykernel)",
   "language": "python",
   "name": "python3"
  },
  "language_info": {
   "codemirror_mode": {
    "name": "ipython",
    "version": 3
   },
   "file_extension": ".py",
   "mimetype": "text/x-python",
   "name": "python",
   "nbconvert_exporter": "python",
   "pygments_lexer": "ipython3",
   "version": "3.12.0"
  }
 },
 "nbformat": 4,
 "nbformat_minor": 1
}
